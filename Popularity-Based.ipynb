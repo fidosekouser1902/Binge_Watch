{
 "cells": [
  {
   "cell_type": "code",
   "execution_count": 1,
   "id": "55137529",
   "metadata": {},
   "outputs": [],
   "source": [
    "import pandas as pd"
   ]
  },
  {
   "cell_type": "code",
   "execution_count": 2,
   "id": "a3bdfcbe",
   "metadata": {},
   "outputs": [],
   "source": [
    "# Dataset\n",
    "\n",
    "dataset={\n",
    "        'Dhawal': {'Special Ops': 5,\n",
    "                  'Criminal Justice': 3,\n",
    "                  'Panchayat': 3,\n",
    "                  'Sacred Games': 3,\n",
    "                  'Apharan': 2,\n",
    "                  'Mirzapur': 3},\n",
    "    \n",
    "        'Additya': {'Special Ops': 5,\n",
    "                    'Criminal Justice': 3,\n",
    "                    'Sacred Games': 5,\n",
    "                    'Panchayat':5,\n",
    "                    'Mirzapur': 3,\n",
    "                    'Apharan': 3},\n",
    "    \n",
    "        'Nivesh': {'Special Ops': 2,\n",
    "                   'Panchayat': 5,\n",
    "                   'Sacred Games': 3,\n",
    "                   'Mirzapur': 4},\n",
    "    \n",
    "        'Nitin': {'Panchayat': 5,\n",
    "                   'Mirzapur': 4,\n",
    "                   'Sacred Games': 4,},\n",
    "    \n",
    "       'Shruti': {'Special Ops': 4,\n",
    "                    'Criminal Justice': 4,\n",
    "                    'Panchayat': 4,\n",
    "                    'Mirzapur': 3,\n",
    "                    'Apharan': 2},\n",
    "    \n",
    "       'Karnika': {'Special Ops': 3,\n",
    "                  'Panchayat': 4,\n",
    "                  'Mirzapur': 3,\n",
    "                  'Sacred Games': 5,\n",
    "                  'Apharan': 3},\n",
    "    \n",
    "      'Falguni': {'Panchayat':4,\n",
    "                  'Apharan':1,\n",
    "\n",
    "                  'Sacred Games':4}}"
   ]
  },
  {
   "cell_type": "code",
   "execution_count": 3,
   "id": "1bc7f468",
   "metadata": {},
   "outputs": [
    {
     "data": {
      "text/plain": [
       "['Apharan',\n",
       " 'Criminal Justice',\n",
       " 'Mirzapur',\n",
       " 'Panchayat',\n",
       " 'Sacred Games',\n",
       " 'Special Ops']"
      ]
     },
     "execution_count": 3,
     "metadata": {},
     "output_type": "execute_result"
    }
   ],
   "source": [
    "# function to extract unique movies from the dataset\n",
    "def unique_movies():\n",
    "    unique_movies_lst = [movies for person,data in dataset.items() for movies in data.keys()]\n",
    "    s=set(unique_movies_lst)\n",
    "    unique_lst=list(s)\n",
    "    unique_lst.sort()\n",
    "    return unique_lst\n",
    "unique_movies()"
   ]
  },
  {
   "cell_type": "code",
   "execution_count": 4,
   "id": "e5c2fe91",
   "metadata": {},
   "outputs": [],
   "source": [
    "# function to fetch trending movies in the dataset\n",
    "\n",
    "def get_trending_movie_list():\n",
    "    \n",
    "    # list to store the number of people watching a particular web series\n",
    "    \n",
    "    # extract movies from the above created functions\n",
    "    un_lst=unique_movies()\n",
    "    \n",
    "    # getting list of rating & the web series given by all the users\n",
    "    trending_list = [(i,j) for person,data in dataset.items() for i,j in data.items()]\n",
    "    \n",
    "    # empty list to store movie ratings\n",
    "    movies_rating = []\n",
    "    \n",
    "    # empty list to store no. of users watching a particular web series\n",
    "    watching_list = []\n",
    "    # iterates the loop to get the weighted average rating of each web series\n",
    "    for i in un_lst:\n",
    "        rating = 0\n",
    "        no_of_users = 0\n",
    "        for m,r in trending_list:\n",
    "            if m == i:\n",
    "                rating += r\n",
    "                no_of_users +=1\n",
    "                \n",
    "        # print the list of total users watched a particular web series        \n",
    "        watching_list.append((no_of_users,\" users watched:: \",i))\n",
    "         \n",
    "        #calculate weighted average\n",
    "        movies_rating.append(((rating/no_of_users),i))\n",
    "    movies_rating.sort(reverse=True)\n",
    "    return movies_rating,watching_list"
   ]
  },
  {
   "cell_type": "code",
   "execution_count": 5,
   "id": "73ba4b98",
   "metadata": {},
   "outputs": [
    {
     "name": "stdout",
     "output_type": "stream",
     "text": [
      "[(4.285714285714286, 'Panchayat'), (4.0, 'Sacred Games'), (3.8, 'Special Ops'), (3.3333333333333335, 'Mirzapur'), (3.3333333333333335, 'Criminal Justice'), (2.2, 'Apharan')]\n"
     ]
    }
   ],
   "source": [
    "# call method to get the trending movie list in the dataset\n",
    "movies_rating,watching_list=get_trending_movie_list()\n",
    "print(movies_rating)"
   ]
  },
  {
   "cell_type": "code",
   "execution_count": 6,
   "id": "e5da525a",
   "metadata": {},
   "outputs": [
    {
     "name": "stdout",
     "output_type": "stream",
     "text": [
      "[(5, ' users watched:: ', 'Apharan'), (3, ' users watched:: ', 'Criminal Justice'), (6, ' users watched:: ', 'Mirzapur'), (7, ' users watched:: ', 'Panchayat'), (6, ' users watched:: ', 'Sacred Games'), (5, ' users watched:: ', 'Special Ops')]\n"
     ]
    }
   ],
   "source": [
    "print(watching_list)"
   ]
  },
  {
   "cell_type": "code",
   "execution_count": 7,
   "id": "fd0e7785",
   "metadata": {},
   "outputs": [
    {
     "name": "stdout",
     "output_type": "stream",
     "text": [
      "Enter the username\n",
      "ravi\n",
      "NEW USER FOUND SO RECOMMENDATION IS BASED ON POPULAR MOVIES\n",
      "Panchayat  rating ---> 4.285714285714286\n",
      "Sacred Games  rating ---> 4.0\n",
      "Special Ops  rating ---> 3.8\n",
      "Mirzapur  rating ---> 3.3333333333333335\n",
      "Criminal Justice  rating ---> 3.3333333333333335\n",
      "Apharan  rating ---> 2.2\n"
     ]
    }
   ],
   "source": [
    "print(\"Enter the username\")\n",
    "string = input()\n",
    "if string not in dataset.keys():\n",
    "    message = \"NEW USER FOUND SO RECOMMENDATION IS BASED ON POPULAR MOVIES\"\n",
    "    print(message)\n",
    "    trending_list,watching_list = get_trending_movie_list()\n",
    "    for r,m in trending_list:\n",
    "        print(m,\" rating --->\",r)\n",
    "else:\n",
    "    print(\"This web series recommedation is for only new users\")"
   ]
  },
  {
   "cell_type": "code",
   "execution_count": null,
   "id": "7b1b355e",
   "metadata": {},
   "outputs": [],
   "source": []
  },
  {
   "cell_type": "code",
   "execution_count": null,
   "id": "7c826659",
   "metadata": {},
   "outputs": [],
   "source": []
  }
 ],
 "metadata": {
  "kernelspec": {
   "display_name": "Python 3 (ipykernel)",
   "language": "python",
   "name": "python3"
  },
  "language_info": {
   "codemirror_mode": {
    "name": "ipython",
    "version": 3
   },
   "file_extension": ".py",
   "mimetype": "text/x-python",
   "name": "python",
   "nbconvert_exporter": "python",
   "pygments_lexer": "ipython3",
   "version": "3.10.4"
  }
 },
 "nbformat": 4,
 "nbformat_minor": 5
}
