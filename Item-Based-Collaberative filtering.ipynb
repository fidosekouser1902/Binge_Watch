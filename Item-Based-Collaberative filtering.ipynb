{
 "cells": [
  {
   "cell_type": "code",
   "execution_count": 15,
   "id": "08fff47e",
   "metadata": {},
   "outputs": [],
   "source": [
    "import numpy as np\n",
    "import pandas as pd\n",
    "from sklearn.metrics.pairwise import cosine_similarity"
   ]
  },
  {
   "cell_type": "code",
   "execution_count": 18,
   "id": "f586d894",
   "metadata": {},
   "outputs": [],
   "source": [
    "#Creating Dataset\n",
    "dataset={\n",
    "        'Firdose': {'Money Heist': 5,\n",
    "                  'Criminal Justice': 3,\n",
    "                  'Family-Man': 3,\n",
    "                  'Sacred Games': 3,\n",
    "                  'Apharan': 2,\n",
    "                  'Mirzapur': 3},\n",
    "    \n",
    "        'Mahi': {'Money Heist': 5,\n",
    "                    'Criminal Justice': 3,\n",
    "                    'Sacred Games': 5,\n",
    "                    'Family-Man':5,\n",
    "                    'Mirzapur': 3,\n",
    "                    'Apharan': 3},\n",
    "    \n",
    "        'Bindu': {'Money Heist': 2,\n",
    "                   'Family-Man': 5,\n",
    "                   'Sacred Games': 3,\n",
    "                   'Mirzapur': 4},\n",
    "    \n",
    "        'Sajid': {'Family-Man': 5,\n",
    "                   'Mirzapur': 4,\n",
    "                   'Sacred Games': 4,},\n",
    "    \n",
    "       'Ishita': {'Money Heist': 4,\n",
    "                    'Criminal Justice': 4,\n",
    "                    'Family-Man': 4,\n",
    "                    'Mirzapur': 3,\n",
    "                    'Apharan': 2},\n",
    "    \n",
    "       'Sruthi': {'Money Heist': 3,\n",
    "                  'Family-Man': 4,\n",
    "                  'Mirzapur': 3,\n",
    "                  'Sacred Games': 5,\n",
    "                  'Apharan': 3},\n",
    "    \n",
    "      'Hani': {'Family-Man':4,\n",
    "                  'Apharan':1,\n",
    "                  'Sacred Games':4}}"
   ]
  },
  {
   "cell_type": "code",
   "execution_count": 19,
   "id": "0b407086",
   "metadata": {},
   "outputs": [
    {
     "data": {
      "text/html": [
       "<div>\n",
       "<style scoped>\n",
       "    .dataframe tbody tr th:only-of-type {\n",
       "        vertical-align: middle;\n",
       "    }\n",
       "\n",
       "    .dataframe tbody tr th {\n",
       "        vertical-align: top;\n",
       "    }\n",
       "\n",
       "    .dataframe thead th {\n",
       "        text-align: right;\n",
       "    }\n",
       "</style>\n",
       "<table border=\"1\" class=\"dataframe\">\n",
       "  <thead>\n",
       "    <tr style=\"text-align: right;\">\n",
       "      <th></th>\n",
       "      <th>Firdose</th>\n",
       "      <th>Mahi</th>\n",
       "      <th>Bindu</th>\n",
       "      <th>Sajid</th>\n",
       "      <th>Ishita</th>\n",
       "      <th>Sruthi</th>\n",
       "      <th>Hani</th>\n",
       "    </tr>\n",
       "  </thead>\n",
       "  <tbody>\n",
       "    <tr>\n",
       "      <th>Money Heist</th>\n",
       "      <td>5</td>\n",
       "      <td>5</td>\n",
       "      <td>2.0</td>\n",
       "      <td>Not Watched</td>\n",
       "      <td>4.0</td>\n",
       "      <td>3.0</td>\n",
       "      <td>Not Watched</td>\n",
       "    </tr>\n",
       "    <tr>\n",
       "      <th>Criminal Justice</th>\n",
       "      <td>3</td>\n",
       "      <td>3</td>\n",
       "      <td>Not Watched</td>\n",
       "      <td>Not Watched</td>\n",
       "      <td>4.0</td>\n",
       "      <td>Not Watched</td>\n",
       "      <td>Not Watched</td>\n",
       "    </tr>\n",
       "    <tr>\n",
       "      <th>Family-Man</th>\n",
       "      <td>3</td>\n",
       "      <td>5</td>\n",
       "      <td>5.0</td>\n",
       "      <td>5.0</td>\n",
       "      <td>4.0</td>\n",
       "      <td>4.0</td>\n",
       "      <td>4.0</td>\n",
       "    </tr>\n",
       "    <tr>\n",
       "      <th>Sacred Games</th>\n",
       "      <td>3</td>\n",
       "      <td>5</td>\n",
       "      <td>3.0</td>\n",
       "      <td>4.0</td>\n",
       "      <td>Not Watched</td>\n",
       "      <td>5.0</td>\n",
       "      <td>4.0</td>\n",
       "    </tr>\n",
       "    <tr>\n",
       "      <th>Apharan</th>\n",
       "      <td>2</td>\n",
       "      <td>3</td>\n",
       "      <td>Not Watched</td>\n",
       "      <td>Not Watched</td>\n",
       "      <td>2.0</td>\n",
       "      <td>3.0</td>\n",
       "      <td>1.0</td>\n",
       "    </tr>\n",
       "    <tr>\n",
       "      <th>Mirzapur</th>\n",
       "      <td>3</td>\n",
       "      <td>3</td>\n",
       "      <td>4.0</td>\n",
       "      <td>4.0</td>\n",
       "      <td>3.0</td>\n",
       "      <td>3.0</td>\n",
       "      <td>Not Watched</td>\n",
       "    </tr>\n",
       "  </tbody>\n",
       "</table>\n",
       "</div>"
      ],
      "text/plain": [
       "                  Firdose  Mahi        Bindu        Sajid       Ishita  \\\n",
       "Money Heist             5     5          2.0  Not Watched          4.0   \n",
       "Criminal Justice        3     3  Not Watched  Not Watched          4.0   \n",
       "Family-Man              3     5          5.0          5.0          4.0   \n",
       "Sacred Games            3     5          3.0          4.0  Not Watched   \n",
       "Apharan                 2     3  Not Watched  Not Watched          2.0   \n",
       "Mirzapur                3     3          4.0          4.0          3.0   \n",
       "\n",
       "                       Sruthi         Hani  \n",
       "Money Heist               3.0  Not Watched  \n",
       "Criminal Justice  Not Watched  Not Watched  \n",
       "Family-Man                4.0          4.0  \n",
       "Sacred Games              5.0          4.0  \n",
       "Apharan                   3.0          1.0  \n",
       "Mirzapur                  3.0  Not Watched  "
      ]
     },
     "execution_count": 19,
     "metadata": {},
     "output_type": "execute_result"
    }
   ],
   "source": [
    "#create a data frame of this dataset\n",
    "dataset_df=pd.DataFrame(dataset)\n",
    "dataset_df.fillna(\"Not Watched\",inplace=True)\n",
    "dataset_df"
   ]
  },
  {
   "cell_type": "code",
   "execution_count": 20,
   "id": "3a4dcb82",
   "metadata": {},
   "outputs": [
    {
     "data": {
      "text/plain": [
       "['Apharan',\n",
       " 'Family-Man',\n",
       " 'Mirzapur',\n",
       " 'Criminal Justice',\n",
       " 'Money Heist',\n",
       " 'Sacred Games']"
      ]
     },
     "execution_count": 20,
     "metadata": {},
     "output_type": "execute_result"
    }
   ],
   "source": [
    "# custom function to create unique set of web series\n",
    "\n",
    "def unique_items():\n",
    "    unique_items_list = []\n",
    "    for person in dataset.keys():\n",
    "        for items in dataset[person]:\n",
    "            unique_items_list.append(items)\n",
    "    s=set(unique_items_list)\n",
    "    unique_items_list=list(s)\n",
    "    return unique_items_list\n",
    "unique_items()"
   ]
  },
  {
   "cell_type": "code",
   "execution_count": 21,
   "id": "f0e6951f",
   "metadata": {},
   "outputs": [],
   "source": [
    "# custom function to implement cosine similarity between two items i.e. web series\n",
    "\n",
    "def item_similarity(item1,item2):\n",
    "    both_rated = {}\n",
    "    for person in dataset.keys():\n",
    "        if item1 in dataset[person] and item2 in dataset[person]:\n",
    "            both_rated[person] = [dataset[person][item1],dataset[person][item2]]\n",
    "\n",
    "    #print(both_rated)\n",
    "    number_of_ratings = len(both_rated)\n",
    "    if number_of_ratings == 0:\n",
    "        return 0\n",
    "\n",
    "    item1_ratings = [[dataset[k][item1] for k,v in both_rated.items() if item1 in dataset[k] and item2 in dataset[k]]]\n",
    "    item2_ratings = [[dataset[k][item2] for k, v in both_rated.items() if item1 in dataset[k] and item2 in dataset[k]]]\n",
    "    #print(\"{} ratings :: {}\".format(item1,item1_ratings))\n",
    "    #print(\"{} ratings :: {}\".format(item2,item2_ratings))\n",
    "    cs = cosine_similarity(item1_ratings,item2_ratings)\n",
    "    return cs[0][0]"
   ]
  },
  {
   "cell_type": "code",
   "execution_count": 22,
   "id": "17fef5b6",
   "metadata": {},
   "outputs": [
    {
     "name": "stdout",
     "output_type": "stream",
     "text": [
      "Cosine Similarity::  0.9319768053120148\n"
     ]
    }
   ],
   "source": [
    "print(\"Cosine Similarity:: \",item_similarity('Money Heist','Sacred Games'))"
   ]
  },
  {
   "cell_type": "code",
   "execution_count": 23,
   "id": "be7625b9",
   "metadata": {},
   "outputs": [],
   "source": [
    "#custom function to check most similar items \n",
    "\n",
    "def most_similar_items(target_item):\n",
    "    un_lst=unique_items()\n",
    "    scores = [(item_similarity(target_item,other_item),target_item+\" --> \"+other_item) for other_item in un_lst if other_item!=target_item]\n",
    "    scores.sort(reverse=True)\n",
    "    return scores"
   ]
  },
  {
   "cell_type": "code",
   "execution_count": 32,
   "id": "4cdce73a",
   "metadata": {},
   "outputs": [
    {
     "data": {
      "text/plain": [
       "[(0.9749005254295224, 'Sacred Games --> Family-Man'),\n",
       " (0.9701425001453319, 'Sacred Games --> Criminal Justice'),\n",
       " (0.9630868246861537, 'Sacred Games --> Apharan'),\n",
       " (0.9517199077929532, 'Sacred Games --> Mirzapur'),\n",
       " (0.9319768053120148, 'Sacred Games --> Money Heist')]"
      ]
     },
     "execution_count": 32,
     "metadata": {},
     "output_type": "execute_result"
    }
   ],
   "source": [
    "most_similar_items('Sacred Games')"
   ]
  },
  {
   "cell_type": "code",
   "execution_count": 24,
   "id": "8986730c",
   "metadata": {},
   "outputs": [],
   "source": [
    "#custom function to filter the seen movies and unseen movies of the target user\n",
    "\n",
    "def target_movies_to_users(target_person):\n",
    "    target_person_movie_lst = []\n",
    "    unique_list =unique_items()\n",
    "    for movies in dataset[target_person]:\n",
    "        target_person_movie_lst.append(movies)\n",
    "\n",
    "    s=set(unique_list)\n",
    "    recommended_movies=list(s.difference(target_person_movie_lst))\n",
    "    a = len(recommended_movies)\n",
    "    if a == 0:\n",
    "        return 0\n",
    "    return recommended_movies,target_person_movie_lst"
   ]
  },
  {
   "cell_type": "code",
   "execution_count": 29,
   "id": "bb234692",
   "metadata": {},
   "outputs": [
    {
     "data": {
      "text/html": [
       "<div>\n",
       "<style scoped>\n",
       "    .dataframe tbody tr th:only-of-type {\n",
       "        vertical-align: middle;\n",
       "    }\n",
       "\n",
       "    .dataframe tbody tr th {\n",
       "        vertical-align: top;\n",
       "    }\n",
       "\n",
       "    .dataframe thead th {\n",
       "        text-align: right;\n",
       "    }\n",
       "</style>\n",
       "<table border=\"1\" class=\"dataframe\">\n",
       "  <thead>\n",
       "    <tr style=\"text-align: right;\">\n",
       "      <th></th>\n",
       "      <th>Unseen Movies</th>\n",
       "      <th>Seen Movies</th>\n",
       "    </tr>\n",
       "  </thead>\n",
       "  <tbody>\n",
       "    <tr>\n",
       "      <th>0</th>\n",
       "      <td>Mirzapur</td>\n",
       "      <td>Family-Man</td>\n",
       "    </tr>\n",
       "    <tr>\n",
       "      <th>1</th>\n",
       "      <td>Criminal Justice</td>\n",
       "      <td>Apharan</td>\n",
       "    </tr>\n",
       "    <tr>\n",
       "      <th>2</th>\n",
       "      <td>Money Heist</td>\n",
       "      <td>Sacred Games</td>\n",
       "    </tr>\n",
       "  </tbody>\n",
       "</table>\n",
       "</div>"
      ],
      "text/plain": [
       "      Unseen Movies   Seen Movies\n",
       "0          Mirzapur    Family-Man\n",
       "1  Criminal Justice       Apharan\n",
       "2       Money Heist  Sacred Games"
      ]
     },
     "execution_count": 29,
     "metadata": {},
     "output_type": "execute_result"
    }
   ],
   "source": [
    "unseen_movies,seen_movies=target_movies_to_users('Hani')\n",
    "\n",
    "dct = {\"Unseen Movies\":unseen_movies,\"Seen Movies\":seen_movies}\n",
    "pd.DataFrame(dct)\n"
   ]
  },
  {
   "cell_type": "code",
   "execution_count": 26,
   "id": "e56577dc",
   "metadata": {},
   "outputs": [],
   "source": [
    "def recommendation_phase(target_person):\n",
    "    if target_movies_to_users(target_person=target_person) == 0:\n",
    "        print(target_person, \"has seen all the movies\")\n",
    "        return -1\n",
    "    not_seen_movies,seen_movies=target_movies_to_users(target_person=target_person)\n",
    "    seen_ratings = [[dataset[target_person][movies],movies] for movies in dataset[target_person]]\n",
    "    weighted_avg,weighted_sim = 0,0\n",
    "    rankings =[]\n",
    "    for i in not_seen_movies:\n",
    "        for rate,movie in seen_ratings:\n",
    "            item_sim=item_similarity(i,movie)\n",
    "            weighted_avg +=(item_sim*rate)\n",
    "            weighted_sim +=item_sim\n",
    "        weighted_rank=weighted_avg/weighted_sim\n",
    "        rankings.append([weighted_rank,i])\n",
    "\n",
    "    rankings.sort(reverse=True)\n",
    "    return rankings"
   ]
  },
  {
   "cell_type": "code",
   "execution_count": 28,
   "id": "3a97b319",
   "metadata": {},
   "outputs": [
    {
     "name": "stdout",
     "output_type": "stream",
     "text": [
      "Enter the target person\n",
      "Hani\n",
      "Recommendation Using Item based Collaborative Filtering:  \n",
      "Criminal Justice --> 3.001430555956084\n",
      "Money Heist --> 2.99513159668599\n",
      "Mirzapur --> 2.99363310192852\n"
     ]
    }
   ],
   "source": [
    "print(\"Enter the target person\")\n",
    "tp = input().title()\n",
    "if tp in dataset.keys():\n",
    "    a=recommendation_phase(tp)\n",
    "    if a != -1:\n",
    "        print(\"Recommendation Using Item based Collaborative Filtering:  \")\n",
    "        for weight,movie in a:\n",
    "            print(movie, '-->', weight)\n",
    "else:\n",
    "    print(\"Person not found in the dataset..please try again\")\n"
   ]
  },
  {
   "cell_type": "code",
   "execution_count": null,
   "id": "f496a1b6",
   "metadata": {},
   "outputs": [],
   "source": []
  },
  {
   "cell_type": "code",
   "execution_count": null,
   "id": "acfea434",
   "metadata": {},
   "outputs": [],
   "source": []
  }
 ],
 "metadata": {
  "kernelspec": {
   "display_name": "Python 3 (ipykernel)",
   "language": "python",
   "name": "python3"
  },
  "language_info": {
   "codemirror_mode": {
    "name": "ipython",
    "version": 3
   },
   "file_extension": ".py",
   "mimetype": "text/x-python",
   "name": "python",
   "nbconvert_exporter": "python",
   "pygments_lexer": "ipython3",
   "version": "3.10.4"
  }
 },
 "nbformat": 4,
 "nbformat_minor": 5
}
